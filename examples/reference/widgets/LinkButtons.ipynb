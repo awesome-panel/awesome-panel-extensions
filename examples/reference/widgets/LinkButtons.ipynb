{
 "cells": [
  {
   "cell_type": "code",
   "execution_count": null,
   "metadata": {},
   "outputs": [],
   "source": [
    "from awesome_panel_extensions.awesome_panel.notebook import Header\n",
    "Header(notebook=\"LinkButtons.ipynb\", folder=\"examples/reference/widgets\")"
   ]
  },
  {
   "cell_type": "markdown",
   "metadata": {},
   "source": [
    "# LinkButtons - Reference Guide\n",
    "\n",
    "A *link button* is something that looks like a button but **opens a link in a new tab when clicked**. This `awesome-panel-extensions` package provides a collection of useful *link buttons*. You can see their api and usage below."
   ]
  },
  {
   "cell_type": "code",
   "execution_count": null,
   "metadata": {},
   "outputs": [],
   "source": [
    "import panel as pn\n",
    "from panel.pane import HTML\n",
    "from awesome_panel_extensions.widgets.link_buttons import ImageLinkButton, BinderLinkButton, NBViewerLinkButton, PanelLinkButton\n",
    "\n",
    "pn.extension()"
   ]
  },
  {
   "cell_type": "markdown",
   "metadata": {},
   "source": [
    "### Demo Utilities"
   ]
  },
  {
   "cell_type": "code",
   "execution_count": null,
   "metadata": {},
   "outputs": [],
   "source": [
    "parent_parameters = [parameter.name for parameter in HTML.param.objects().values()]\n",
    "\n",
    "def get_parameters_pane(button):\n",
    "    child_parameters = [parameter.name for parameter in button.param.objects().values()]\n",
    "    parameters = list(set(child_parameters)-set(parent_parameters))\n",
    "    layout_parameters= [\"object\", \"width\", \"height\", \"sizing_mode\"]\n",
    "    return pn.WidgetBox(\n",
    "        pn.Param(button, parameters=parameters, sizing_mode=\"stretch_width\", show_name=False),\n",
    "        pn.Param(button, parameters=layout_parameters, sizing_mode=\"stretch_width\", show_name=False),\n",
    "        sizing_mode=\"stretch_width\",\n",
    "    )\n",
    "\n",
    "def get_app(button):\n",
    "    return pn.Column(button, get_parameters_pane(button), sizing_mode=\"stretch_width\")"
   ]
  },
  {
   "cell_type": "markdown",
   "metadata": {},
   "source": [
    "## ImageLinkButton"
   ]
  },
  {
   "cell_type": "code",
   "execution_count": null,
   "metadata": {},
   "outputs": [],
   "source": [
    "image_link_button = ImageLinkButton(\n",
    "    image_url = \"https://developer.rhino3d.com/images/rhinopython-guides-col1.png\",\n",
    "    link_url = \"https://www.python.org/\",\n",
    "    width=150,\n",
    ")\n",
    "get_app(image_link_button)"
   ]
  },
  {
   "cell_type": "markdown",
   "metadata": {},
   "source": [
    "## BinderLinkButton"
   ]
  },
  {
   "cell_type": "code",
   "execution_count": null,
   "metadata": {},
   "outputs": [],
   "source": [
    "binder_link_button = BinderLinkButton(\n",
    "        repository=\"marcskovmadsen/awesome-panel-extensions\",\n",
    "        branch=\"main\",\n",
    "        folder=\"examples/reference/panes\",\n",
    "        notebook=\"WebComponent.ipynb\",\n",
    "    )\n",
    "get_app(binder_link_button)"
   ]
  },
  {
   "cell_type": "markdown",
   "metadata": {},
   "source": [
    "## NBViewerLinkButton"
   ]
  },
  {
   "cell_type": "code",
   "execution_count": null,
   "metadata": {},
   "outputs": [],
   "source": [
    "nbviewer_link_button = NBViewerLinkButton(\n",
    "        repository=\"MarcSkovMadsen/awesome-panel-extensions\",\n",
    "        branch=\"main\",\n",
    "        folder=\"examples/reference/panes\",\n",
    "        notebook=\"WebComponent.ipynb\",\n",
    "    )\n",
    "get_app(nbviewer_link_button)"
   ]
  },
  {
   "cell_type": "markdown",
   "metadata": {},
   "source": [
    "## PanelLinkButton"
   ]
  },
  {
   "cell_type": "code",
   "execution_count": null,
   "metadata": {},
   "outputs": [],
   "source": [
    "panel_link_button = PanelLinkButton(height=60, width=120)\n",
    "get_app(panel_link_button)"
   ]
  }
 ],
 "metadata": {
  "kernelspec": {
   "display_name": "Python 3",
   "language": "python",
   "name": "python3"
  },
  "language_info": {
   "codemirror_mode": {
    "name": "ipython",
    "version": 3
   },
   "file_extension": ".py",
   "mimetype": "text/x-python",
   "name": "python",
   "nbconvert_exporter": "python",
   "pygments_lexer": "ipython3",
   "version": "3.7.6"
  }
 },
 "nbformat": 4,
 "nbformat_minor": 4
}
