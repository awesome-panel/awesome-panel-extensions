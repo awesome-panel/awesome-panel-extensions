{
 "cells": [
  {
   "cell_type": "code",
   "execution_count": null,
   "metadata": {},
   "outputs": [],
   "source": [
    "from awesome_panel_extensions.awesome_panel.notebook import Header\n",
    "Header(folder=\"examples/reference/frameworks/fast\", notebook=\"FastAnchor.ipynb\")"
   ]
  },
  {
   "cell_type": "markdown",
   "metadata": {},
   "source": [
    "# Fast Anchor - Reference Guide\n",
    "\n",
    "The `FastAnchor` widget is based on the [fast-anchor](https://explore.fast.design/components/fast-anchor) web component.\n",
    "\n",
    "<table>\n",
    "    <tr>\n",
    "        <td><img src=\"https://raw.githubusercontent.com/MarcSkovMadsen/awesome-panel-extensions/main/assets/images/frameworks/fast/fast-anchor.png\"></td>\n",
    "    </tr>\n",
    "</table>\n",
    "\n",
    "\n",
    "#### Parameters:\n",
    "\n",
    "##### Core:\n",
    "\n",
    "* **``name``** (str): The label of the Anchor. Defaults to None.\n",
    "* **``value``** (str): The link/ href of the Anchor. Defaults to None.\n",
    "* **``appearance``** (str): Determines the appearance of the anchor. One of `accent`, `lightweight`, `neutral`, `outline`, `stealth` or `hypertext`. Defaults to None (i.e. neutral).\n",
    "* **``target``** (str): Where to display the linked URL. One of None, `_self`, `_blank`, `_parent`, `_self` or `_top`. Defaults to None.\n",
    "\n",
    "##### Other\n",
    "\n",
    "* **``download``** (str): Prompts the user to save the linked URL instead of navigating to it. Can be used with or without a value. Defaults to None.\n",
    "* **``hreflang``** (str): Hints at the human language of the linked URL. No built-in functionality. Default is None.\n",
    "* **``ping``** (str): A space-separated list of URLs. When the link is followed, the browser will send. POST requests with the body PING to the URLs. Typically for tracking. Default is None.\n",
    "* **``referrerpolicy``** (str): How much of the referrer to send when following the link. One of no-referrer, no-referrer-when-downgrade, origin,origin-when-cross-origin, same-origin, strict-origin, strict-origin-when-cross-origin and unsafe-url.check_on_set. Defaults to None.\n",
    "* **``rel``** (str): The relationship of the linked URL as space-separated link types like alternate, archives, ... See https://developer.mozilla.org/en-US/docs/Web/HTML/Link_types. Defaults to None.\n",
    "* **``mimetype``** (str): Hints at the linked URL’s format with a MIME type. No built-in functionality. Default is None.\n",
    "\n",
    "The `FastAnchor` has the same layout and styling parameters as most other widgets. For example `width` and `sizing_mode`.\n",
    "\n",
    "---\n",
    "\n",
    "Please **note** that you can only use the Fast components inside a custom Panel template that\n",
    "\n",
    "- Loads the  [Fast `javascript` library](https://www.fast.design/docs/components/getting-started#from-cdn).\n",
    "- Wraps the content of the `<body>` html tag inside the [fast-design-system-provider](https://www.fast.design/docs/components/getting-started#add-components) tag.\n",
    "\n",
    "We provide the `FastTemplate` for easy usage. \n",
    "\n",
    "You can also develop your own custom [Panel template](https://panel.holoviz.org/user_guide/Templates.html) if you need something special. For example combining it with more [fast.design](https://fast.design/) web components and the [Fluent Design System](https://www.microsoft.com/design/fluent/#/) to create **VS Code** and **Microsoft Office** like experiences.\n",
    "\n",
    "Please note that Fast components will not work in older, legacy browser like Internet Explorer.\n",
    "\n",
    "___\n",
    "\n",
    "Let's start by importing the dependencies"
   ]
  },
  {
   "cell_type": "code",
   "execution_count": null,
   "metadata": {},
   "outputs": [],
   "source": [
    "import param\n",
    "import panel as pn\n",
    "from awesome_panel_extensions.frameworks.fast import FastTemplate, FastAnchor\n",
    "\n",
    "pn.config.sizing_mode = \"stretch_width\"\n",
    "pn.extension()"
   ]
  },
  {
   "cell_type": "markdown",
   "metadata": {},
   "source": [
    "## Parameters\n",
    "\n",
    "Let's explore the parameters of the `FastAnchor`."
   ]
  },
  {
   "cell_type": "code",
   "execution_count": null,
   "metadata": {},
   "outputs": [],
   "source": [
    "anchor = FastAnchor(name=\"Click me to open link!\", sizing_mode=\"fixed\", width=200, appearance=\"accent\", value=\"https://panel.holoviz.org\", target=\"_blank\")\n",
    "\n",
    "app=pn.Column(\n",
    "    pn.Spacer(height=10),\n",
    "    anchor,\n",
    "    pn.Spacer(height=10),\n",
    ")\n",
    "template=FastTemplate(main=[app])\n",
    "template"
   ]
  },
  {
   "cell_type": "code",
   "execution_count": null,
   "metadata": {},
   "outputs": [],
   "source": [
    "anchor_parameters = [\"name\",\"value\",\"appearance\",\"download\",\"href\",\"hreflang\",\"ping\",\"referrerpolicy\",\"referrer\",\"rel\",\"target\",\"mimetype\", \"sizing_mode\", \"width\", \"height\"]\n",
    "settings_pane = pn.WidgetBox(pn.Param(anchor, parameters=anchor_parameters, show_name=False))\n",
    "settings_pane"
   ]
  },
  {
   "cell_type": "markdown",
   "metadata": {},
   "source": [
    "## pn.Param\n",
    "\n",
    "Let's verify that that `FastAnchor` can be used as a widget by `pn.Param`."
   ]
  },
  {
   "cell_type": "code",
   "execution_count": null,
   "metadata": {},
   "outputs": [],
   "source": [
    "WIDGETS = {\n",
    "    \"link\": {\n",
    "        \"type\": FastAnchor, \"appearance\": \"outline\", \"sizing_mode\": \"fixed\", \"width\": 200, \"target\": \"_blank\"\n",
    "    }\n",
    "}\n",
    "\n",
    "class ParameterizedApp(param.Parameterized):\n",
    "    link = param.String(default=\"https://fast.design\")\n",
    "    view = param.Parameter()\n",
    "    \n",
    "    \n",
    "    def __init__(self, **params):\n",
    "        super().__init__(**params)\n",
    "        \n",
    "        self.view = pn.Param(self, parameters=[\"link\", ], widgets=WIDGETS)\n",
    "        \n",
    "parameterized_app = ParameterizedApp()\n",
    "paremeterized_template = FastTemplate(main=[parameterized_app.view])\n",
    "paremeterized_template"
   ]
  },
  {
   "cell_type": "markdown",
   "metadata": {},
   "source": [
    "#### Usage in HTML or Markdown\n",
    "\n",
    "Inside the `FastTemplate` you can also use the `<fast-anchor>` tag directly"
   ]
  },
  {
   "cell_type": "code",
   "execution_count": null,
   "metadata": {},
   "outputs": [],
   "source": [
    "markdown_pane = pn.pane.Markdown(\n",
    "    \"Click the link to go to <fast-anchor href='https://awesome-panel.org' target='_blank' appearance='hypertext'>awesome-panel.org</fast-anchor>. \"\n",
    "    \"Click the second link to check out the sister site <fast-anchor href='https://awesome-streamlit.org' target='_blank' appearance='hypertext'>awesome-streamlit.org</fast-anchor>.\",\n",
    "    height=60,\n",
    "    margin=35)\n",
    "FastTemplate(\n",
    "    [pn.Spacer(height=10), \n",
    "     markdown_pane],\n",
    ")"
   ]
  },
  {
   "cell_type": "markdown",
   "metadata": {},
   "source": [
    "## Resources\n",
    "\n",
    "- [fast.design](https://fast.design/)\n",
    "- [fast-anchor](https://explore.fast.design/components/fast-anchor)\n",
    "\n",
    "## Known Issues\n",
    "\n",
    "- None so far\n",
    "\n",
    "<table>\n",
    "    <tr>\n",
    "        <td><img src=\"https://raw.githubusercontent.com/MarcSkovMadsen/awesome-panel-extensions/main/assets/images/frameworks/fast/fast-panel-logo.png\"></td>\n",
    "    </tr>\n",
    "</table>\n"
   ]
  },
  {
   "cell_type": "code",
   "execution_count": null,
   "metadata": {},
   "outputs": [],
   "source": []
  }
 ],
 "metadata": {
  "kernelspec": {
   "display_name": "Python [conda env:root] *",
   "language": "python",
   "name": "conda-root-py"
  },
  "language_info": {
   "codemirror_mode": {
    "name": "ipython",
    "version": 3
   },
   "file_extension": ".py",
   "mimetype": "text/x-python",
   "name": "python",
   "nbconvert_exporter": "python",
   "pygments_lexer": "ipython3",
   "version": "3.9.10"
  }
 },
 "nbformat": 4,
 "nbformat_minor": 4
}
